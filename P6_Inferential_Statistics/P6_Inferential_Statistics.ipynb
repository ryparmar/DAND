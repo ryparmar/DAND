{
 "cells": [
  {
   "cell_type": "markdown",
   "metadata": {},
   "source": [
    "# Udacity Nanodegree Program, Data Analyst\n",
    "\n",
    "# Project 6: Inferential Statistics\n",
    "\n",
    "# Stroop Experiment\n",
    "\n"
   ]
  },
  {
   "cell_type": "markdown",
   "metadata": {},
   "source": [
    "## Background Information"
   ]
  },
  {
   "cell_type": "markdown",
   "metadata": {},
   "source": [
    "In a Stroop task, participants are presented with a list of words, with each word displayed in a color of ink. The participant’s task is to say out loud the color of the ink in which the word is printed. The task has two conditions: a congruent words condition, and an incongruent words condition. In the congruent words condition, the words being displayed are color words whose names match the colors in which they are printed: for example  <span style=\"color:red\">RED</span>, <span style=\"color:blue\">BLUE</span>. In the incongruent words condition, the words displayed are color words whose names do not match the colors in which they are printed: for example <span style=\"color:blue\">PURPLE</span>, <span style=\"color:red\">ORANGE</span>. In each case, we measure the time it takes to name the ink colors in equally-sized lists. Each participant will go through and record a time from each condition."
   ]
  },
  {
   "cell_type": "markdown",
   "metadata": {},
   "source": [
    "## 1. Dependent variable and Independent variable"
   ]
  },
  {
   "cell_type": "markdown",
   "metadata": {},
   "source": [
    "As we have two groups of observations (conditions), the congruent words condition group (group1) and the incongruent words condition group (group2), both groups of same size and consists of identical subjects, it could be said that samples are dependent.\n",
    "\n",
    "The dependent variable is time spent by reading within a condition group and the independent variable is condition group (group1 or group2)."
   ]
  },
  {
   "cell_type": "markdown",
   "metadata": {},
   "source": [
    "## 2. Set of hypotheses and chosen statistical test "
   ]
  },
  {
   "cell_type": "markdown",
   "metadata": {},
   "source": [
    "My hypothesis is that brain is able to process faster the congruent words condition group task opposite to incongruent condition group task, as the evaluation of congruent words is possibly easier for the brain. In other words, I expect that congruent words condition took in average less time to complete than under the incongruent words condition. \n",
    "So null hypothesis is that the average time needed to proceed the congruent condition is equal to average time needed to proceed the incongruent condition. Alternative hypothesis is that average time needed to finish the congruent condition is smaller compared to incongruent words condition. To rewrite this hypothesis into mathematical/statistical expressions: <br>\n",
    "\n",
    "$ H_0: \\overline{x}_{group1} = \\overline{x}_{group2} $ <br>\n",
    "\n",
    "$ H_1: \\overline{x}_{group1} < \\overline{x}_{group2} $ <br>\n",
    "\n",
    "Where $ \\overline{x}_{group1} $ denotes average time of finishing congruent words condition task and \n",
    "$ \\overline{x}_{group2} $ denotes average time of finishing incongruent words condition task.\n",
    "\n",
    "According to this case - dependent samples (participants took test under both conditions), I assume that elements of dataset are random selection of population, observations and its differences are normally distributed and I am not aware of the populaton parameters thus **I expect to perform paired (one tailed) t-test**. \n",
    "Alpha level was chosen as $ \\alpha = 0.05 $."
   ]
  },
  {
   "cell_type": "markdown",
   "metadata": {},
   "source": [
    "## 3. Descriptive statistics"
   ]
  },
  {
   "cell_type": "code",
   "execution_count": 38,
   "metadata": {
    "collapsed": false,
    "scrolled": true
   },
   "outputs": [
    {
     "name": "stdout",
     "output_type": "stream",
     "text": [
      "average of group1: \n",
      "14.05\n",
      "average of group2: \n",
      "22.02\n",
      "average of difference: \n",
      "-7.96\n",
      "median of group1: \n",
      "14.36\n",
      "median of group2: \n",
      "21.02\n",
      "median of difference: \n",
      "-7.67\n",
      "variance of group1: \n",
      "12.67\n",
      "variance of group2: \n",
      "23.01\n",
      "variance of difference: \n",
      "23.67\n",
      "standard deviation of group1: \n",
      "3.56\n",
      "standard deviation of group2: \n",
      "4.8\n",
      "standard deviation of difference: \n",
      "4.86\n",
      "degrees of freedom: \n",
      "23\n"
     ]
    }
   ],
   "source": [
    "import pandas as pd\n",
    "import numpy as np\n",
    "\n",
    "data = pd.read_csv(\"C:\\Users\\mrecl\\Desktop\\Inferential_Statistics\\project\\P6_Inferential_Statistics\\P6_stroopdata.csv\")\n",
    "\n",
    "data[\"Difference\"] = data[\"Congruent\"] - data[\"Incongruent\"]\n",
    "\n",
    "avg_cong = np.average(data[\"Congruent\"])\n",
    "avg_incong = np.average(data[\"Incongruent\"])\n",
    "avg_diff = np.average(data[\"Difference\"])\n",
    "print(\"average of group1: \")\n",
    "print(round(avg_cong, 2))\n",
    "print(\"average of group2: \")\n",
    "print(round(avg_incong, 2))\n",
    "print(\"average of difference: \")\n",
    "print(round(avg_diff, 2))\n",
    "\n",
    "median_cong = np.median(data[\"Congruent\"])\n",
    "median_incong = np.median(data[\"Incongruent\"])\n",
    "median_diff = np.median(data[\"Difference\"])\n",
    "print(\"median of group1: \")\n",
    "print(round(median_cong, 2))\n",
    "print(\"median of group2: \")\n",
    "print(round(median_incong, 2))\n",
    "print(\"median of difference: \")\n",
    "print(round(median_diff, 2))\n",
    "\n",
    "var_cong = np.var(data[\"Congruent\"], ddof=1)\n",
    "var_incong = np.var(data[\"Incongruent\"], ddof=1)\n",
    "var_diff = np.var(data[\"Difference\"], ddof=1)\n",
    "print(\"variance of group1: \")\n",
    "print(round(var_cong, 2))\n",
    "print(\"variance of group2: \")\n",
    "print(round(var_incong, 2))\n",
    "print(\"variance of difference: \")\n",
    "print(round(var_diff, 2))\n",
    "\n",
    "sd_cong = np.sqrt(var_cong)\n",
    "sd_incong = np.sqrt(var_incong)\n",
    "sd_diff = np.sqrt(var_diff)\n",
    "print(\"standard deviation of group1: \")\n",
    "print(round(sd_cong, 2))\n",
    "print(\"standard deviation of group2: \")\n",
    "print(round(sd_incong, 2))\n",
    "print(\"standard deviation of difference: \")\n",
    "print(round(sd_diff, 2))\n",
    "\n",
    "n = len(data)\n",
    "dof = n - 1\n",
    "print(\"degrees of freedom: \")\n",
    "print(dof)"
   ]
  },
  {
   "cell_type": "markdown",
   "metadata": {},
   "source": [
    "## 4. Visualized distributions"
   ]
  },
  {
   "cell_type": "code",
   "execution_count": 32,
   "metadata": {
    "collapsed": false
   },
   "outputs": [
    {
     "data": {
      "text/plain": [
       "<matplotlib.text.Text at 0xb2c53c8>"
      ]
     },
     "execution_count": 32,
     "metadata": {},
     "output_type": "execute_result"
    },
    {
     "data": {
      "image/png": "[encoded data removed]",
      "text/plain": [
       "<matplotlib.figure.Figure at 0xb90d080>"
      ]
     },
     "metadata": {},
     "output_type": "display_data"
    }
   ],
   "source": [
    "import seaborn as sns\n",
    "import matplotlib.pyplot as plt\n",
    "import matplotlib as mpl\n",
    "mpl.use(\"agg\")\n",
    "%matplotlib inline \n",
    "\n",
    "fig = plt.figure(1, figsize=(7, 5))\n",
    "data_plt = [data[\"Congruent\"], data[\"Incongruent\"]]\n",
    "ax = fig.add_subplot(111)\n",
    "bp = ax.boxplot(data_plt)\n",
    "ax.set_xticklabels([\"Congruent\", \"Incongruent\"])\n",
    "\n",
    "for flier in bp[\"fliers\"]:\n",
    "    flier.set(marker=\"o\", color = \"#e7298a\", alpha = 0.5)\n",
    "plt.title(\"Boxplots per words condition\")"
   ]
  },
  {
   "cell_type": "code",
   "execution_count": 41,
   "metadata": {
    "collapsed": false
   },
   "outputs": [
    {
     "data": {
      "text/plain": [
       "<matplotlib.legend.Legend at 0xc56dfd0>"
      ]
     },
     "execution_count": 41,
     "metadata": {},
     "output_type": "execute_result"
    },
    {
     "data": {
      "image/png": "[encoded data removed]",
      "text/plain": [
       "<matplotlib.figure.Figure at 0xc7356d8>"
      ]
     },
     "metadata": {},
     "output_type": "display_data"
    }
   ],
   "source": [
    "sns.set(style=\"white\", palette=\"muted\", color_codes=True)\n",
    "p1 = sns.distplot(data[\"Congruent\"], color=\"b\", bins=5, label=\"Congruent\", axlabel=\"\")\n",
    "p2 = sns.distplot(data[\"Incongruent\"], color=\"r\", bins=5, label=\"Incongruent\", axlabel=\"seconds to finishing task\")\n",
    "plt.legend()"
   ]
  },
  {
   "cell_type": "markdown",
   "metadata": {},
   "source": [
    "From above plots is clear that incongruent distribution is shifted to right, which means that finishing incongruent words condition task took in average more time opposite to completion under congruent words condition within our sample."
   ]
  },
  {
   "cell_type": "markdown",
   "metadata": {},
   "source": [
    "## 5. Statistical test and report of results"
   ]
  },
  {
   "cell_type": "markdown",
   "metadata": {},
   "source": [
    "Executed one-sample t test with: <br>\n",
    "one tailed critical value = - 1.714, <br>\n",
    "negative direction of test <br>\n",
    "chosen level of alpha as $ \\alpha = 0.05 $ and <br>\n",
    "degree of freedom = 23.\n"
   ]
  },
  {
   "cell_type": "code",
   "execution_count": 39,
   "metadata": {
    "collapsed": false
   },
   "outputs": [
    {
     "name": "stdout",
     "output_type": "stream",
     "text": [
      "t-statistics: \n",
      "-8.02070694411\n"
     ]
    }
   ],
   "source": [
    "t_stat = (avg_diff/(sd_diff/np.sqrt(n)))\n",
    "print(\"t-statistics: \")\n",
    "print(t_stat)"
   ]
  },
  {
   "cell_type": "markdown",
   "metadata": {},
   "source": [
    "APA style notation: <br>\n",
    "t(23) = -8.02, p <.0001 , one-tailed"
   ]
  },
  {
   "cell_type": "markdown",
   "metadata": {},
   "source": [
    "### Conclusion"
   ]
  },
  {
   "cell_type": "markdown",
   "metadata": {},
   "source": [
    "After calculating t-statistics I can compare it to the critical value (t value lies in critical area), I come to a conclusion that it is statistically significant, thus I can reject the $ H_0 $ and do not reject the $ H_1 $. So, based on this sample it really seems that congruent words condition is less time consuming and easier for people to finish as I expected. "
   ]
  },
  {
   "cell_type": "markdown",
   "metadata": {},
   "source": [
    "## 6. More about Stroop effect"
   ]
  },
  {
   "cell_type": "markdown",
   "metadata": {},
   "source": [
    "From my point of view, I believe that processing of congruent words condition is more complicated because of it requires more brain operations to execute when evaluating the task. In congruent words condition you are aware of that colour of font and meaning of word has same value (meaning) and thus you do less checking and validations of your decision what colour is used, but when you evaluating incongruent words condition it is more complicated as you have to evaluate something what has different associated meaning (Red (word) is written by blue colour), then your brain need to execute more checking and validation operations of your decision and thus it takes more time. But after some reading I also like the theory of automaticity which suggests that since recognizing colors is not an \"automatic process\" there is hesitancy to respond; whereas, the brain automatically understands the meaning of words as a result of habitual reading. This idea is based on the premise that automatic reading does not need controlled attention, but still uses enough attentional resources to reduce the amount of attention accessible for color information processing.\n",
    "\n",
    "As I have already read the wiki article, I know there are other variation of Stroop test such as the one using numbers where a digit can be presented as big or small (e.g., 5 vs. 5), irrespective of its numerical value. Comparing digits in incongruent trials (e.g., 3 5, where for 3 is used bigger font) is slower than comparing digits in congruent trials (e.g., 5 3, where for 5 is used bigger font) and the difference in reaction time is termed the numerical Stroop effect."
   ]
  },
  {
   "cell_type": "markdown",
   "metadata": {},
   "source": [
    "Resources:<br>\n",
    "1) https://stackoverflow.com/questions/29067541/rmarkdown-how-to-change-the-font-color <br>\n",
    "2) https://en.wikipedia.org/wiki/Stroop_effect <br>\n",
    "3) http://seaborn.pydata.org/index.html <br>\n",
    "4) http://blog.bharatbhole.com/creating-boxplots-with-matplotlib/ <br>\n",
    "5) http://www.psychology.emory.edu/clinical/bliwise/Tutorials/TOM/meanstests/assump.htm <br>\n",
    "6) http://support.minitab.com/en-us/minitab/17/topic-library/basic-statistics-and-graphs/hypothesis-tests/tests-of-means/why-use-paired-t/\n",
    "\n"
   ]
  },
  {
   "cell_type": "markdown",
   "metadata": {},
   "source": [
    "Created by: <br>\n",
    "Martin Rypar <br>\n",
    "30.9.2017"
   ]
  }
 ],
 "metadata": {
  "anaconda-cloud": {},
  "kernelspec": {
   "display_name": "Python [conda env:DAND]",
   "language": "python",
   "name": "conda-env-DAND-py"
  },
  "language_info": {
   "codemirror_mode": {
    "name": "ipython",
    "version": 2
   },
   "file_extension": ".py",
   "mimetype": "text/x-python",
   "name": "python",
   "nbconvert_exporter": "python",
   "pygments_lexer": "ipython2",
   "version": "2.7.12"
  }
 },
 "nbformat": 4,
 "nbformat_minor": 2
}
