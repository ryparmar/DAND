{
 "cells": [
  {
   "cell_type": "markdown",
   "metadata": {},
   "source": [
    "# Udacity Nanodegree Program, Data Analyst\n",
    "\n",
    "# Project 4: Data Wrangling\n",
    "\n",
    "## Map Area: Prague, Czech Republic"
   ]
  },
  {
   "cell_type": "markdown",
   "metadata": {},
   "source": [
    "I chose already prepared extract of Prague - the capital city of Czech Republic - from mapzen.com <sup>1</sup> (1.83 GB) though I worked only with the sample (380 MB) in this project to make the calculations and wrangling faster. Czech Republic is located in Central Europe with Prague (approx. 1.3 million inhabitants) in western part of the country. Prague is city where I live now, which made decision making about map area much simpler for me. (Later found out that area covers not only Prague but also contiguos districts and smaller cities close to Prague, which I do not mind now and those data were left in the database.)"
   ]
  },
  {
   "cell_type": "markdown",
   "metadata": {},
   "source": [
    "## Problems Encountered During Auditing"
   ]
  },
  {
   "cell_type": "markdown",
   "metadata": {},
   "source": [
    "To avoid multiple cycles over dataset the code solving below issues were included in one function called shape_element() which processing the data from .osm file and insert them into particular csvs. This method is faster  than multiple cycles but the cost is a clarity of the code. "
   ]
  },
  {
   "cell_type": "markdown",
   "metadata": {},
   "source": [
    "### 1. Diacritics\n",
    "The first and very obvious issue is diacritics (á, é, ě,...) widely used in Czech Republic, which frequently occures in usernames, street names, city district names, etc. To adjust those I wrote short function which uses Unidecode library, concretely unidecode() function to transliterate text with diacritics to more convenient ASCII characters. <br>"
   ]
  },
  {
   "cell_type": "raw",
   "metadata": {},
   "source": [
    "def remove_diacritics(string):\n",
    "    pured_string = unidecode.unidecode(string)\n",
    "    pured_string.encode(\"ascii\")\n",
    "    return pured_string"
   ]
  },
  {
   "cell_type": "markdown",
   "metadata": {},
   "source": [
    "Before adjustment:"
   ]
  },
  {
   "cell_type": "raw",
   "metadata": {},
   "source": [
    "<tag k=\"name\" v=\"Dělnická\" />\n",
    "<node changeset=\"3845374\" id=\"635563981\" lat=\"50.1198355\" lon=\"14.4274516\" timestamp=\"2010-02-11T03:09:56Z\" uid=\"17615\" user=\"Petr Dlouhý\" version=\"1\" />\n",
    "<tag k=\"addr:street\" v=\"Václavská\" />\n",
    "<tag k=\"name\" v=\"Hlubočepská\" />\n",
    "<node changeset=\"16767032\" id=\"31419183\" lat=\"49.786519\" lon=\"14.4111147\" timestamp=\"2013-06-30T17:13:13Z\" uid=\"733101\" user=\"Jindřich Houska\" version=\"3\" />"
   ]
  },
  {
   "cell_type": "markdown",
   "metadata": {},
   "source": [
    "After adjustment:"
   ]
  },
  {
   "cell_type": "raw",
   "metadata": {},
   "source": [
    "<tag k=\"name\" v=\"Delnicka\" />\n",
    "<node changeset=\"3845374\" id=\"635563981\" lat=\"50.1198355\" lon=\"14.4274516\" timestamp=\"2010-02-11T03:09:56Z\" uid=\"17615\" user=\"Petr Dlouhy\" version=\"1\" />\n",
    "<tag k=\"addr:street\" v=\"Vaclavska\" />\n",
    "<tag k=\"name\" v=\"Hlubocepská\" />\n",
    "<node changeset=\"16767032\" id=\"31419183\" lat=\"49.786519\" lon=\"14.4111147\" timestamp=\"2013-06-30T17:13:13Z\" uid=\"733101\" user=\"Jindrich Houska\" version=\"3\" />"
   ]
  },
  {
   "cell_type": "markdown",
   "metadata": {},
   "source": [
    "### 2. Wrong format of some key values\n",
    "#### 2.a \n",
    "When auditing key values of tags, I encountered some unexpected formats of keys which do not match up with compiled regular expressions (lower, lower_colon, problemchars, other). Where the most common issue was key in this form: uir_adr:ADRESA_KOD, which is abbreviated reference to database of all building objects in Czech Republic and value for this key is an identification code. Even though it is not such a big problem, it would be better to give that key more appropriate and fully english name.  "
   ]
  },
  {
   "cell_type": "markdown",
   "metadata": {},
   "source": [
    "Before adjustment:"
   ]
  },
  {
   "cell_type": "raw",
   "metadata": {},
   "source": [
    "<tag k=\"uir_adr:ADRESA_KOD\" v=\"21808074\" />\n",
    "<tag k=\"uir_adr:ADRESA_KOD\" v=\"22069739\" />\n",
    "<tag k=\"uir_adr:ADRESA_KOD\" v=\"22563644\" />\n",
    "<tag k=\"uir_adr:ADRESA_KOD\" v=\"1438964\" />\n",
    "<tag k=\"uir_adr:ADRESA_KOD\" v=\"21764573\" />"
   ]
  },
  {
   "cell_type": "markdown",
   "metadata": {},
   "source": [
    "The share of above mentioned problem is clearly the most frequent one."
   ]
  },
  {
   "cell_type": "raw",
   "metadata": {},
   "source": [
    "Node tags key: \n",
    "{'problemchars': 0, 'lower': 19632, 'other': 4199, 'lower_colon': 150611}\n",
    "Way tags key: \n",
    "{'problemchars': 0, 'lower': 107885, 'other': 65, 'lower_colon': 79292}"
   ]
  },
  {
   "cell_type": "raw",
   "metadata": {},
   "source": [
    "{u'ref:I\\u010cO': 1, 'VITASLIM': 1, 'FIXME': 20, 'Shape_Area': 1, 'fuel:1_50': 1, 'fuel:GTL_diesel': 2, 'cinema:3D': 1, 'hgv:6t': 2, 'hgv:12t': 2, 'uir_adr:ADRESA_KOD': 4214, 'source_1': 1, 'CEMT': 1, 'ref_1': 6, 'hgv:6': 1, 'fuel:1_25': 1, 'his:1951-1990:name': 1, 'hazmat:E': 1, 'currency:CZK': 3, 'currency:EUR': 1, 'his:1990-:name': 1, 'fuel:HGV_diesel': 2}"
   ]
  },
  {
   "cell_type": "markdown",
   "metadata": {},
   "source": [
    "To solve this I simply checked all key values and in case of match the key and type value were set to more convenient \"UIRA_code\"."
   ]
  },
  {
   "cell_type": "raw",
   "metadata": {},
   "source": [
    "LOWER_COLON = re.compile(r'^([a-z]|_)+:([a-z]|_)+')\n",
    "PROBLEMCHARS = re.compile(r'[=\\+/&<>;\\'\"\\?%#$@\\,\\. \\t\\r\\n]')\n",
    "LOWER = re.compile(r'^([a-z]|_)*$')\n",
    "\n",
    "if child.get(\"k\") == \"uir_adr:ADRESA_KOD\":\n",
    "                        tag_d[\"key\"] = \"UIRA_code\"\n",
    "                        tag_d[\"type\"] = \"regular\""
   ]
  },
  {
   "cell_type": "markdown",
   "metadata": {},
   "source": [
    "After adjustment:"
   ]
  },
  {
   "cell_type": "raw",
   "metadata": {},
   "source": [
    "<tag k=\"UIRA_code\" v=\"21808074\" />\n",
    "<tag k=\"UIRA_code\" v=\"22069739\" />\n",
    "<tag k=\"UIRA_code\" v=\"22563644\" />\n",
    "<tag k=\"UIRA_code\" v=\"1438964\" />\n",
    "<tag k=\"UIRA_code\" v=\"21764573\" />"
   ]
  },
  {
   "cell_type": "markdown",
   "metadata": {},
   "source": [
    "#### 2.b\n",
    "In some of the keys also occured \";\" mark which might causing trobles in .csv format as it is often used as separator value. In code were, within all values, \";\" marks simply replaced by \"_\" using replace() function from standard library."
   ]
  },
  {
   "cell_type": "markdown",
   "metadata": {},
   "source": [
    "Before adjustment:"
   ]
  },
  {
   "cell_type": "raw",
   "metadata": {},
   "source": [
    "<tag k=\"source\" v=\"euler.blog.cz;uhul:ortofoto\" />\n",
    "<tag k=\"source\" v=\"Bing;cuzk\" />\n",
    "<tag k=\"source:addr\" v=\"uir_adr;mvcr:adresa\" />\n",
    "<tag k=\"source\" v=\"local_knowledge;bing:ortofoto\" />\n",
    "<tag k=\"opening_hours\" v=\"Tu,Th,Fr 08:00-11:00,13:00-16:00; Mo,We 08:00-11:00,14:00-16:00,16:30-18:00; Sa,Su,PH off\" />"
   ]
  },
  {
   "cell_type": "markdown",
   "metadata": {},
   "source": [
    "After adjustment:"
   ]
  },
  {
   "cell_type": "raw",
   "metadata": {},
   "source": [
    "<tag k=\"source\" v=\"euler.blog.cz_uhul:ortofoto\" />\n",
    "<tag k=\"source\" v=\"Bing_cuzk\" />\n",
    "<tag k=\"source:addr\" v=\"uir_adr_mvcr:adresa\" />\n",
    "<tag k=\"source\" v=\"local_knowledge_bing:ortofoto\" />\n",
    "<tag k=\"opening_hours\" v=\"Tu,Th,Fr 08:00-11:00,13:00-16:00_ Mo,We 08:00-11:00,14:00-16:00,16:30-18:00_ Sa,Su,PH off\" />"
   ]
  },
  {
   "cell_type": "markdown",
   "metadata": {},
   "source": [
    "### 3. Wrong postcode format  "
   ]
  },
  {
   "cell_type": "markdown",
   "metadata": {},
   "source": [
    "Some of the postcodes are recorded with whitespace and thus it does not count as the same postcode without whitespace. Issue processed programmatically by replacing all the whitespaces within postcode values, again used replace() function from standard library."
   ]
  },
  {
   "cell_type": "raw",
   "metadata": {},
   "source": [
    "Investigative_query = \"\"\"SELECT sub.value, count(sub.value) as postcodes\n",
    "            FROM (SELECT key, value FROM nodes_tags UNION ALL SELECT key, value FROM ways_tags) as sub \n",
    "            WHERE sub.key == 'postcode'\n",
    "            GROUP BY sub.value\n",
    "            ORDER BY postcodes DESC;\"\"\""
   ]
  },
  {
   "cell_type": "markdown",
   "metadata": {},
   "source": [
    "Before adjustment: <br>\n",
    "(postcode, count)"
   ]
  },
  {
   "cell_type": "raw",
   "metadata": {},
   "source": [
    "(u'110 00', 2)\n",
    "(u'170 00', 2)\n",
    "(u'180 00', 2)\n",
    "(u'150 00', 5)\n",
    "(u'160 00', 3)\n",
    "\n",
    "(u'11000', 763)\n",
    "(u'17000', 504)\n",
    "(u'18000', 295)\n",
    "(u'15000', 1226)\n",
    "(u'16000', 1168)"
   ]
  },
  {
   "cell_type": "markdown",
   "metadata": {},
   "source": [
    "After adjustment: <br>\n",
    "(postcode, count)"
   ]
  },
  {
   "cell_type": "raw",
   "metadata": {},
   "source": [
    "(u'11000', 765)\n",
    "(u'17000', 506)\n",
    "(u'18000', 297)\n",
    "(u'15000', 1231)\n",
    "(u'16000', 1171)"
   ]
  },
  {
   "cell_type": "markdown",
   "metadata": {},
   "source": [
    "## Answering questions by quering the database"
   ]
  },
  {
   "cell_type": "markdown",
   "metadata": {},
   "source": [
    "### Database size\n"
   ]
  },
  {
   "cell_type": "raw",
   "metadata": {},
   "source": [
    "QUERY1 =  \"\"\" PRAGMA PAGE_COUNT; \"\"\"\n",
    "c.execute(QUERY1)\n",
    "count = c.fetchall()\n",
    "QUERY2 = \"\"\" PRAGMA PAGE_SIZE; \"\"\"\n",
    "c.execute(QUERY2)\n",
    "p_size =c.fetchall()\n",
    "print \"size of database:\"\n",
    "print (count[0][0] * p_size[0][0]) / 1000, \" kilobytes\""
   ]
  },
  {
   "cell_type": "markdown",
   "metadata": {},
   "source": [
    "size of database:\n",
    "231 938  kilobytes"
   ]
  },
  {
   "cell_type": "markdown",
   "metadata": {},
   "source": [
    "### Number of unique users"
   ]
  },
  {
   "cell_type": "raw",
   "metadata": {},
   "source": [
    "QUERY3 = \"\"\"SELECT count(DISTINCT sub.uid) as unique_users \n",
    "            FROM (SELECT uid FROM nodes UNION ALL SELECT uid FROM ways) sub;\"\"\""
   ]
  },
  {
   "cell_type": "markdown",
   "metadata": {},
   "source": [
    "number of unique users:  2031"
   ]
  },
  {
   "cell_type": "markdown",
   "metadata": {},
   "source": [
    "### Number of nodes"
   ]
  },
  {
   "cell_type": "raw",
   "metadata": {},
   "source": [
    "QUERY4 = \"\"\"SELECT count(*) as nodes_number FROM nodes;\"\"\""
   ]
  },
  {
   "cell_type": "markdown",
   "metadata": {},
   "source": [
    "number of nodes:  1703031"
   ]
  },
  {
   "cell_type": "markdown",
   "metadata": {},
   "source": [
    "### Number of ways"
   ]
  },
  {
   "cell_type": "raw",
   "metadata": {},
   "source": [
    "QUERY5 = \"\"\" SELECT count(*) as ways_number FROM ways;\"\"\""
   ]
  },
  {
   "cell_type": "markdown",
   "metadata": {},
   "source": [
    "number of ways:  195262"
   ]
  },
  {
   "cell_type": "markdown",
   "metadata": {},
   "source": [
    "### Number of shops"
   ]
  },
  {
   "cell_type": "raw",
   "metadata": {},
   "source": [
    "QUERY6 = \"\"\"SELECT count(key) as number_shops FROM nodes_tags\n",
    "            WHERE nodes_tags.key == 'shop'; \"\"\""
   ]
  },
  {
   "cell_type": "markdown",
   "metadata": {},
   "source": [
    "number of shops:  1094"
   ]
  },
  {
   "cell_type": "markdown",
   "metadata": {},
   "source": [
    "### Number of trees"
   ]
  },
  {
   "cell_type": "raw",
   "metadata": {},
   "source": [
    "QUERY7 = \"\"\"SELECT count(value) as number_trees FROM nodes_tags\n",
    "            WHERE nodes_tags.value == 'tree'; \"\"\""
   ]
  },
  {
   "cell_type": "markdown",
   "metadata": {},
   "source": [
    "number of trees:  433"
   ]
  },
  {
   "cell_type": "markdown",
   "metadata": {},
   "source": [
    "### Number of footways"
   ]
  },
  {
   "cell_type": "raw",
   "metadata": {},
   "source": [
    "QUERY7 = \"\"\"SELECT count(value) as number_footways FROM ways_tags\n",
    "            WHERE ways_tags.value == 'footway'; \"\"\""
   ]
  },
  {
   "cell_type": "markdown",
   "metadata": {},
   "source": [
    "number of footways:  7812"
   ]
  },
  {
   "cell_type": "markdown",
   "metadata": {},
   "source": [
    "### Top 10 users"
   ]
  },
  {
   "cell_type": "raw",
   "metadata": {},
   "source": [
    "QUERY8 = \"\"\"SELECT sub.user as unique_users, count(sub.id) as number_inputs\n",
    "            FROM (SELECT user, id FROM nodes UNION ALL SELECT user, id FROM ways) sub\n",
    "            GROUP BY sub.user\n",
    "            ORDER BY number_inputs DESC\n",
    "            LIMIT 10;\"\"\""
   ]
  },
  {
   "cell_type": "markdown",
   "metadata": {},
   "source": [
    "Top 10 contributors:\n",
    "JandaM : 429645 <br>\n",
    "Petr1868 : 378057 <br>\n",
    "pedro' : 79844 <br>\n",
    "pschonmann : 77969 <br>\n",
    "kwiecpav : 71092 <br>\n",
    "CzechAddress : 69745 <br>\n",
    "Minimalis : 65784 <br>\n",
    "BiIbo : 51922 <br>\n",
    "montardo : 44292 <br>\n",
    "Jindrich Houska : 43444"
   ]
  },
  {
   "cell_type": "markdown",
   "metadata": {},
   "source": [
    "### Share of top 10 users on total"
   ]
  },
  {
   "cell_type": "raw",
   "metadata": {},
   "source": [
    "QUERY9 = \"\"\"SELECT sum(number_inputs) as top_contributors\n",
    "            FROM (SELECT sub.user as unique_users, count(sub.id) as number_inputs\n",
    "            FROM (SELECT user, id FROM nodes UNION ALL SELECT user, id FROM ways) sub\n",
    "            GROUP BY sub.user\n",
    "            ORDER BY number_inputs DESC\n",
    "            LIMIT 10);\"\"\""
   ]
  },
  {
   "cell_type": "markdown",
   "metadata": {},
   "source": [
    "Share of top 10 users on the total:  69.1 %"
   ]
  },
  {
   "cell_type": "markdown",
   "metadata": {},
   "source": [
    "### Overview of amenities and artwork objects"
   ]
  },
  {
   "cell_type": "raw",
   "metadata": {},
   "source": [
    "QUERY10 = \"\"\"SELECT sub.key, sub.value, count(sub.value) as number_objects\n",
    "            FROM (SELECT key, value FROM nodes_tags UNION ALL SELECT key, value FROM ways_tags) as sub\n",
    "            WHERE sub.key == 'amenity' or sub.key == 'artwork_type'\n",
    "            GROUP BY sub.value;\"\"\""
   ]
  },
  {
   "cell_type": "markdown",
   "metadata": {},
   "source": [
    "bench : 843 ,\n",
    "parking : 806 ,\n",
    "restaurant : 571 ,\n",
    "recycling : 528 ,\n",
    "bicycle_parking : 201 ,\n",
    "post_box : 171 ,\n",
    "shelter : 165 ,\n",
    "place_of_worship : 163 ,\n",
    "telephone : 158 ,\n",
    "cafe : 142 ,\n",
    "school : 134 ,\n",
    "pub : 121 ,\n",
    "atm : 115 ,\n",
    "fast_food : 108 ,\n",
    "bar : 101 ,\n",
    "fuel : 98 ,\n",
    "waste_basket : 92 ,\n",
    "kindergarten : 84 ,\n",
    "pharmacy : 76 ,\n",
    "toilets : 67 ,\n",
    "bank : 66 ,\n",
    "fountain : 53 ,\n",
    "post_office : 51 ,\n",
    "hunting_stand : 47 ,\n",
    "vending_machine : 47 ,\n",
    "parking_entrance : 41 ,\n",
    "statue : 39 ,\n",
    "townhall : 37 ,\n",
    "drinking_water : 33 ,\n",
    "police : 32 ,\n",
    "library : 29 ,\n",
    "clock : 27 ,\n",
    "theatre : 27 ,\n",
    "fire_station : 23 ,\n",
    "bureau_de_change : 22 ,\n",
    "sculpture : 22 ,\n",
    "doctors : 21 ,\n",
    "university : 19 ,\n",
    "car_wash : 18 ,\n",
    "embassy : 18 ,\n",
    "hospital : 17 ,\n",
    "waste_disposal : 17 ,\n",
    "college : 16 ,\n",
    "nightclub : 16 ,\n",
    "grave_yard : 15 ,\n",
    "community_centre : 12 ,\n",
    "veterinary : 12 ,\n",
    "charging_station : 10 ,\n",
    "dentist : 10 ,\n",
    "biergarten : 9 ,\n",
    "clinic : 9 ,\n",
    "cinema : 8 ,\n",
    "parking_space : 7 ,\n",
    "arts_centre : 6 ,\n",
    "bus_station : 6 ,\n",
    "dormitory : 6 ,\n",
    "marketplace : 6 ,\n",
    "social_facility : 6 ,\n",
    "ferry_terminal : 5 ,\n",
    "bbq : 4 ,\n",
    "survey : 4 ,\n",
    "table : 4 ,\n",
    "taxi : 4 ,\n",
    "bicycle_rental : 3 ,\n",
    "brothel : 3 ,\n",
    "car_rental : 3 ,\n",
    "food_court : 3 ,\n",
    "ice_cream : 3 ,\n",
    "vehicle_inspection : 3 ,\n",
    "animal_training : 2 ,\n",
    "childcare : 2 ,\n",
    "monastery : 2 ,\n",
    "music : 2 ,\n",
    "nursing_home : 2 ,\n",
    "public_bookcase : 2 ,\n",
    "architect_office : 1 ,\n",
    "art_school : 1 ,\n",
    "bicycle_repair_station : 1 ,\n",
    "boat_rental : 1 ,\n",
    "bts : 1 ,\n",
    "canteen : 1 ,\n",
    "casino : 1 ,\n",
    "check_in : 1 ,\n",
    "courthouse : 1 ,\n",
    "doctors_pharmacy : 1 ,\n",
    "driving_school : 1 ,\n",
    "elevator : 1 ,\n",
    "exhibition_hall : 1 ,\n",
    "fast_food_boat_sharing : 1 ,\n",
    "feeding_place : 1 ,\n",
    "fodder_rack : 1 ,\n",
    "game_feeding : 1 ,\n",
    "haunt : 1 ,\n",
    "loading_dock : 1 ,\n",
    "mortuary : 1 ,\n",
    "mural : 1 ,\n",
    "other : 1 ,\n",
    "prison : 1 ,\n",
    "relief : 1 ,\n",
    "science : 1 ,\n",
    "shop : 1 ,\n",
    "shower : 1 ,\n",
    "social_centre : 1 ,\n",
    "stripclub : 1 ,\n",
    "swimming_pool : 1 ,\n",
    "water_point : 1 ,"
   ]
  },
  {
   "cell_type": "markdown",
   "metadata": {},
   "source": [
    "In further analysis I would be interested in average number of amenities per district and per habitant such as number of benches per habitant or number of recycling spots per habitant/squere area. And then use those and similar informations (number of libraries, kindergarten etc) to get a sense of particular districts and evaluate them as potential factors of quality of life in those districts. But to proceed with the analysis, there would be needed square area of each district and number of habitants in each district. It would not be such a problem to get the mentioned data, but what concerning me is data completeness, in different words how representative would be the data obtained from openstreetmap websites. Even though it is more statistical question, it has also what to do with data quality.\n",
    "Other topic is data consistency which might be harmed as the openstreetmap contributors are not single person or single group of people but a lot of different persons/groups and thus violiting data consistency migh happen very easily.   "
   ]
  },
  {
   "cell_type": "markdown",
   "metadata": {},
   "source": [
    "## Conclusion"
   ]
  },
  {
   "cell_type": "markdown",
   "metadata": {},
   "source": [
    "Beside two above mentioned issues, I noticed that not all informations in data are updated as I saw a few route restrictions (e.g. route is closed due to maintenance) that are not more valid and surely there could be some other issues which negatively affect the data accuracy. In general it is not a simple task to provide and often even measure data accuracy which also apply for this case.\n",
    "All those issues are unwanted and degrading utility of data, however considering the nature of openstreetmaps and way how the data are collected brings following question to my mind if it is even possible to assure that the numbers will depict the reality perfectly well. I do not thinks so, as the data will be always incomplete and inaccurate as the city is under constant development, changing and provide good data quality for such complex organism is not an easy task even for some corporation payed for that. But still I am super excited that these \"opensource\" datasets like this one exist and that they are created by people for people!"
   ]
  },
  {
   "cell_type": "markdown",
   "metadata": {},
   "source": [
    "Resources:<br>\n",
    "1) https://mapzen.com/data/metro-extracts/metro/prague_czech-republic/ <br>\n",
    "2) https://stackoverflow.com/questions/517923/what-is-the-best-way-to-remove-accents-in-a-python-unicode-string <br>\n",
    "3) https://docs.python.org/2/library/sqlite3.html <br>\n",
    "4) https://docs.python.org/ <br>\n",
    "5) https://gist.github.com/carlward/54ec1c91b62a5f911c42#file-sample_project-md <br>\n",
    "6) https://www.w3schools.com/sql <br>\n",
    "7) https://forums.udacity.com/?forum_path=c/nd002-data-wrangling <br>\n",
    "8) McKinney, Wes. Python for data analysis. Beijing: O'Reilly, 2013. <br>\n",
    "9) Udacity lessons, usage of training codes from CaseStudy lesson <br>\n",
    "10) https://pypi.python.org/pypi/Unidecode <br>\n",
    "11) https://gist.github.com/swwelch/f1144229848b407e0a5d13fcb7fbbd6f\n",
    "\n"
   ]
  },
  {
   "cell_type": "markdown",
   "metadata": {},
   "source": [
    "Created by: <br>\n",
    "Martin Rypar <br>\n",
    "6.9.2017"
   ]
  }
 ],
 "metadata": {
  "anaconda-cloud": {},
  "kernelspec": {
   "display_name": "Python [conda env:DAND]",
   "language": "python",
   "name": "conda-env-DAND-py"
  },
  "language_info": {
   "codemirror_mode": {
    "name": "ipython",
    "version": 2
   },
   "file_extension": ".py",
   "mimetype": "text/x-python",
   "name": "python",
   "nbconvert_exporter": "python",
   "pygments_lexer": "ipython2",
   "version": "2.7.12"
  }
 },
 "nbformat": 4,
 "nbformat_minor": 2
}
