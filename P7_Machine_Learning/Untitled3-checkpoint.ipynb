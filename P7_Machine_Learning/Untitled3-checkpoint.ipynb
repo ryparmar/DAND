{
 "cells": [
  {
   "cell_type": "markdown",
   "metadata": {},
   "source": [
    "# Udacity Nanodegree Program, Data Analyst\n",
    "\n",
    "# Project 7: Machine Learning\n",
    "\n",
    "# Identify Fraud from Enron Email "
   ]
  },
  {
   "cell_type": "markdown",
   "metadata": {},
   "source": [
    "## Dataset"
   ]
  },
  {
   "cell_type": "markdown",
   "metadata": {},
   "source": [
    "The project is focused on Enron scandal, possibly the biggest cracked corporate fraud, where the goal of this project is to find out (or at least try to) who are persons of interest in this fraud case. As persons of interest (further reffered only as POI) are considered individuals who were indicted or was reached a settlement or plea deal with the government, or testified in exchange for prosecution immunity. When estimating whether person is POI or not, application of machine learning (ML) techniques could help us tremendously. There are several reasons for using ML, but these two seems to me as the key ones: strong performance of ML algorithms and wide range of use-cases (classification, regression, natural language processing, image processing, etc.). \n"
   ]
  },
  {
   "cell_type": "markdown",
   "metadata": {},
   "source": [
    "To get some intuition about dataset here are some of the important characteristics: <br>\n",
    "- 146 observations (ex employees of Enron)\n",
    "- 21 features (originally)\n",
    "- 4 features were used in classifier\n",
    "- 3 new features were created"
   ]
  },
  {
   "cell_type": "code",
   "execution_count": 1,
   "metadata": {
    "collapsed": false
   },
   "outputs": [
    {
     "data": {
      "image/png": "[encoded data removed]",
      "text/plain": [
       "<matplotlib.figure.Figure at 0xa343da0>"
      ]
     },
     "metadata": {},
     "output_type": "display_data"
    }
   ],
   "source": [
    "import seaborn as sns\n",
    "import matplotlib.pyplot as plt\n",
    "import pandas as pd\n",
    "import numpy as np\n",
    "import sys\n",
    "import pickle\n",
    "sys.path.append(\"../tools/\")\n",
    "%matplotlib inline \n",
    "\n",
    "from feature_format import featureFormat, targetFeatureSplit\n",
    "\n",
    "### Load the dictionary containing the dataset\n",
    "with open(\"final_project_dataset.pkl\", \"r\") as data_file:\n",
    "    data_dict = pickle.load(data_file)\n",
    "\n",
    "data = pd.DataFrame.from_dict(data_dict, orient=\"index\")\n",
    "df = data\n",
    "\n",
    "for col in df:\n",
    "    if col != \"email_address\":\n",
    "        df[col] = df[col].apply(float, 1)     \n",
    "\n",
    "# count of NaNs\n",
    "sns.set(style=\"whitegrid\")\n",
    "g = sns.factorplot(\"poi\", data=df, kind=\"count\")\n",
    "g = g.set_axis_labels(\"poi\", \"count of NaNs\")"
   ]
  },
  {
   "cell_type": "markdown",
   "metadata": {},
   "source": [
    "And below set of features sorted by number of NaNs."
   ]
  },
  {
   "cell_type": "code",
   "execution_count": 2,
   "metadata": {
    "collapsed": false
   },
   "outputs": [
    {
     "data": {
      "text/plain": [
       "loan_advances                142\n",
       "director_fees                129\n",
       "restricted_stock_deferred    128\n",
       "deferral_payments            107\n",
       "deferred_income               97\n",
       "long_term_incentive           80\n",
       "bonus                         64\n",
       "from_poi_to_this_person       60\n",
       "shared_receipt_with_poi       60\n",
       "to_messages                   60\n",
       "from_this_person_to_poi       60\n",
       "from_messages                 60\n",
       "other                         53\n",
       "expenses                      51\n",
       "salary                        51\n",
       "exercised_stock_options       44\n",
       "restricted_stock              36\n",
       "total_payments                21\n",
       "total_stock_value             20\n",
       "email_address                  0\n",
       "poi                            0\n",
       "Name: nans, dtype: int64"
      ]
     },
     "execution_count": 2,
     "metadata": {},
     "output_type": "execute_result"
    }
   ],
   "source": [
    "#count number of nans within each feature\n",
    "nans_f = pd.Series(df.isnull().sum(axis=0), name=\"nans\")\n",
    "nans_f = nans_f.sort_values(ascending=False)\n",
    "nans_f"
   ]
  },
  {
   "cell_type": "markdown",
   "metadata": {},
   "source": [
    "Some of the features are consisted mainly by NANs (*loan_advances*, *restricted_stock_deferred*, *deferral_payment*s, so there is a number of options what to do with them. I decided to remove *loan_advances* from dataset as it has almost all values equal to NAN, *email_address* and *other* were removed as well as I do not see any information value in them. Rest of the features were preserved in the dataset for now."
   ]
  },
  {
   "cell_type": "code",
   "execution_count": 3,
   "metadata": {
    "collapsed": false
   },
   "outputs": [
    {
     "data": {
      "text/plain": [
       "LOCKHART EUGENE E                19\n",
       "GRAMM WENDY L                    17\n",
       "WROBEL BRUCE                     17\n",
       "WODRASKA JOHN                    17\n",
       "THE TRAVEL AGENCY IN THE PARK    17\n",
       "WHALEY DAVID A                   17\n",
       "SCRIMSHAW MATTHEW                17\n",
       "CHRISTODOULOU DIOMEDES           16\n",
       "CLINE KENNETH W                  16\n",
       "GILLIS JOHN                      16\n",
       "SAVAGE FRANK                     16\n",
       "WAKEHAM JOHN                     16\n",
       "CHAN RONNIE                      15\n",
       "MEYER JEROME J                   15\n",
       "BLAKE JR. NORMAN P               15\n",
       "PEREIRA PAULO V. FERRAZ          15\n",
       "FUGH JOHN L                      15\n",
       "MENDELSOHN JOHN                  15\n",
       "LOWRY CHARLES P                  15\n",
       "GATHMANN WILLIAM D               15\n",
       "YEAP SOON                        15\n",
       "URQUHART JOHN A                  15\n",
       "WINOKUR JR. HERBERT S            15\n",
       "LEMAISTRE CHARLES                14\n",
       "BADUM JAMES P                    14\n",
       "NOLES JAMES L                    14\n",
       "DUNCAN JOHN H                    14\n",
       "PRENTICE JAMES                   14\n",
       "GRAY RODNEY                      14\n",
       "WALTERS GARETH W                 14\n",
       "                                 ..\n",
       "MCMAHON JEFFREY                   5\n",
       "THORN TERENCE H                   5\n",
       "MCCONNELL MICHAEL S               5\n",
       "MCCLELLAN GEORGE                  5\n",
       "TILNEY ELIZABETH A                5\n",
       "LAVORATO JOHN J                   5\n",
       "KOENIG MARK E                     5\n",
       "KEAN STEVEN J                     5\n",
       "TOTAL                             5\n",
       "WALLS JR ROBERT H                 5\n",
       "GLISAN JR BEN F                   5\n",
       "GARLAND C KEVIN                   5\n",
       "FITZGERALD JAY L                  5\n",
       "WHALLEY LAWRENCE G                5\n",
       "FALLON JAMES B                    5\n",
       "WASAFF GEORGE                     4\n",
       "BELDEN TIMOTHY N                  4\n",
       "SHARP VICTORIA T                  4\n",
       "MULLER MARK S                     4\n",
       "RIEKER PAULA H                    4\n",
       "RICE KENNETH D                    4\n",
       "OLSON CINDY K                     4\n",
       "BUY RICHARD B                     4\n",
       "HANNON KEVIN P                    4\n",
       "PIPER GREGORY F                   3\n",
       "DERRICK JR. JAMES V               3\n",
       "LAY KENNETH L                     2\n",
       "HAEDICKE MARK E                   2\n",
       "FREVERT MARK A                    2\n",
       "ALLEN PHILLIP K                   2\n",
       "Name: nans, dtype: int64"
      ]
     },
     "execution_count": 3,
     "metadata": {},
     "output_type": "execute_result"
    }
   ],
   "source": [
    "nans_o = pd.Series(df.isnull().sum(axis=1), name=\"nans\")\n",
    "nans_o = nans_o.sort_values(ascending=False)\n",
    "nans_o"
   ]
  },
  {
   "cell_type": "markdown",
   "metadata": {},
   "source": [
    "From list above is clear that LOCKHART EUGENE E (all the features are NaNs) and THE TRAVEL AGENCY IN THE PARK (not a person) have no information value and thus I will get rid of them."
   ]
  },
  {
   "cell_type": "code",
   "execution_count": 4,
   "metadata": {
    "collapsed": false
   },
   "outputs": [
    {
     "data": {
      "image/png": "[encoded data removed]",
      "text/plain": [
       "<matplotlib.figure.Figure at 0x4831198>"
      ]
     },
     "metadata": {},
     "output_type": "display_data"
    },
    {
     "data": {
      "text/plain": [
       "TOTAL              97343619.0\n",
       "LAVORATO JOHN J     8000000.0\n",
       "LAY KENNETH L       7000000.0\n",
       "Name: bonus, dtype: float64"
      ]
     },
     "execution_count": 4,
     "metadata": {},
     "output_type": "execute_result"
    }
   ],
   "source": [
    "sns.lmplot(\"bonus\", \"total_stock_value\", data=df, fit_reg=False, hue=\"poi\")\n",
    "plt.xlabel(\"bonus\")\n",
    "plt.ylabel(\"total_stock_value\")\n",
    "plt.show()\n",
    "\n",
    "outliers = df.nlargest(3, \"bonus\")\n",
    "outliers[\"bonus\"]"
   ]
  },
  {
   "cell_type": "code",
   "execution_count": 5,
   "metadata": {
    "collapsed": false
   },
   "outputs": [
    {
     "data": {
      "image/png": "[encoded data removed]",
      "text/plain": [
       "<matplotlib.figure.Figure at 0xb617ac8>"
      ]
     },
     "metadata": {},
     "output_type": "display_data"
    },
    {
     "data": {
      "text/plain": [
       "LAVORATO JOHN J       8000000.0\n",
       "LAY KENNETH L         7000000.0\n",
       "SKILLING JEFFREY K    5600000.0\n",
       "Name: bonus, dtype: float64"
      ]
     },
     "execution_count": 5,
     "metadata": {},
     "output_type": "execute_result"
    }
   ],
   "source": [
    "df = df.drop([\"TOTAL\", \"LOCKHART EUGENE E\", \"THE TRAVEL AGENCY IN THE PARK\"])\n",
    "\n",
    "sns.lmplot(\"bonus\", \"total_stock_value\", data=df, fit_reg=False, hue=\"poi\")\n",
    "plt.xlabel(\"bonus\")\n",
    "plt.ylabel(\"total_stock_value\")\n",
    "plt.show()\n",
    "\n",
    "outliers = df.nlargest(3, \"bonus\")\n",
    "outliers[\"bonus\"]"
   ]
  },
  {
   "cell_type": "markdown",
   "metadata": {},
   "source": [
    "Regarding outliers, I removed one clear outliers - TOTAL, LOCKHART EUGENE E and THE TRAVEL AGENCY IN THE PARK where I am 100% sure that I do not want to include into model. \n",
    "Rest of the data were leaved in."
   ]
  },
  {
   "cell_type": "markdown",
   "metadata": {},
   "source": [
    "## Features"
   ]
  },
  {
   "cell_type": "markdown",
   "metadata": {},
   "source": [
    "I ended up with these features: *exercised_stock_options*, *total_stock_value* and *deferred_income* which proved their ability to discriminate quite well. And it seems completely logical as the used features are the ones with the lower number of NANs. For obtaining those I used SelectKBest function with different scoring functions (chi2, using chi square statistics and f_classif computing ANOVA) and then tested characteristics of generated predictions using particular feature. \n",
    "\n",
    "Regarding new features:<br>\n",
    "I come up with a few new features, first is called simply *nans* as it counts number of NANs within each person. The hypothesis was that there could be any pattern, such as people with more NANs (there is less information about them) tends to be POI in more cases (hypothesis does not work as I thought, but the feature seems to have some discriminatory power). Second feature is *to_poi_ratio* which is a proportion of messages sent to POI on total and third feature *from_poi_ratio* which is proportion of messages received from POI on total. Both are basically calculated out of two of the initial features, so I believe they have stronger information value now. Logic behind those two features is similar, people in intenser communication with POIs are more likely POI too (hypothesis). Between best 10 features according to SeleckKBest were also *to_poi_ratio* and *nans* (to_poi_ration [3rd] and nans [7th]), nevertheless after some testing (which might be found below) none of the new features is included in the model.\n",
    "\n",
    "Regarding feature selection:<br>\n",
    "To get the features which carry the signal I involved selection algorithm - SelectKBest from sklearn library. I created two selectors, one using \"chi2\" scoring function and one using ANOVA scoring function. Then I printed the sorted features by score - so I basically used the SelectKBest only for generating the scores. Decision which features to pick was based on scores and also I examined how the particular feature affect the model characteristics (accuracy, precision, recall). Could be find below. \n",
    "\n",
    "Regarding feature scaling:<br>\n",
    "But before features were selected, the feature scaling was executed, using MinMaxScaler from sklearn library. Basically there are two kinds of features. The first are ones expressed by monetary units or money and could reach very high numbers (*salary*, *bonus*, etc.). The second ones are connected to number of sent or received emails (*from_messages*, *to_messages*), so the scale of those numbers is completely different. It is obvious that those kinds of features are incomparable and that is clear reason why perform feature scaling.\n",
    "\n",
    "Hand in hand with feature scaling I also perform imputation of NaN values within the dataset. NaN values within all features were imputed by median value (except from *director_fees* which made me more sense to impute with 0). This caused that those features with more NaNs are wery weak in discriminating wheter the person is POI or not and thus will be less likely included in top k features."
   ]
  },
  {
   "cell_type": "code",
   "execution_count": 12,
   "metadata": {
    "collapsed": false
   },
   "outputs": [
    {
     "data": {
      "text/html": [
       "<div>\n",
       "<table border=\"1\" class=\"dataframe\">\n",
       "  <thead>\n",
       "    <tr style=\"text-align: right;\">\n",
       "      <th></th>\n",
       "      <th>anova</th>\n",
       "    </tr>\n",
       "  </thead>\n",
       "  <tbody>\n",
       "    <tr>\n",
       "      <th>exercised_stock_options</th>\n",
       "      <td>27.678401</td>\n",
       "    </tr>\n",
       "    <tr>\n",
       "      <th>total_stock_value</th>\n",
       "      <td>23.920241</td>\n",
       "    </tr>\n",
       "    <tr>\n",
       "      <th>to_poi_ratio</th>\n",
       "      <td>16.194476</td>\n",
       "    </tr>\n",
       "    <tr>\n",
       "      <th>bonus</th>\n",
       "      <td>16.135833</td>\n",
       "    </tr>\n",
       "    <tr>\n",
       "      <th>salary</th>\n",
       "      <td>11.064059</td>\n",
       "    </tr>\n",
       "    <tr>\n",
       "      <th>deferred_income</th>\n",
       "      <td>10.479953</td>\n",
       "    </tr>\n",
       "    <tr>\n",
       "      <th>nans</th>\n",
       "      <td>9.665694</td>\n",
       "    </tr>\n",
       "    <tr>\n",
       "      <th>restricted_stock</th>\n",
       "      <td>8.582427</td>\n",
       "    </tr>\n",
       "    <tr>\n",
       "      <th>long_term_incentive</th>\n",
       "      <td>8.582407</td>\n",
       "    </tr>\n",
       "    <tr>\n",
       "      <th>total_payments</th>\n",
       "      <td>8.507453</td>\n",
       "    </tr>\n",
       "  </tbody>\n",
       "</table>\n",
       "</div>"
      ],
      "text/plain": [
       "                             anova\n",
       "exercised_stock_options  27.678401\n",
       "total_stock_value        23.920241\n",
       "to_poi_ratio             16.194476\n",
       "bonus                    16.135833\n",
       "salary                   11.064059\n",
       "deferred_income          10.479953\n",
       "nans                      9.665694\n",
       "restricted_stock          8.582427\n",
       "long_term_incentive       8.582407\n",
       "total_payments            8.507453"
      ]
     },
     "execution_count": 12,
     "metadata": {},
     "output_type": "execute_result"
    }
   ],
   "source": [
    "df = data.drop([\"email_address\", \"other\", \"loan_advances\"], 1)\n",
    "df = df.drop([\"TOTAL\"])\n",
    "# creating a new features\n",
    "nans = pd.Series(df.isnull().sum(axis=1), name=\"nans\")\n",
    "df = df.join(nans)\n",
    "\n",
    "to_poi_ratio = pd.Series(df[\"from_this_person_to_poi\"]/df[\"from_messages\"], \\\n",
    "                         name=\"to_poi_ratio\")\n",
    "df = df.join(to_poi_ratio)\n",
    "from_poi_ratio = pd.Series(df[\"from_poi_to_this_person\"]/df[\"to_messages\"], \\\n",
    "                           name=\"from_poi_ratio\")\n",
    "df = df.join(from_poi_ratio)\n",
    "\n",
    "# feature scaling\n",
    "df[\"director_fees\"] = df[\"director_fees\"].fillna(0)\n",
    "from sklearn import preprocessing\n",
    "imp = preprocessing.Imputer(missing_values=np.nan, strategy='median', axis=0)\n",
    "scaler = preprocessing.MinMaxScaler()\n",
    "df_imputed = pd.DataFrame(imp.fit_transform(df), \\\n",
    "                          index=df.index, columns=df.columns)\n",
    "df_scaled = pd.DataFrame(scaler.fit_transform(df_imputed), \\\n",
    "                         index=df.index, columns=df.columns)\n",
    "poi = df[\"poi\"] \n",
    "df_scaled[\"poi\"] = poi\n",
    "\n",
    "# feature selection\n",
    "from sklearn.feature_selection import SelectKBest, f_classif, chi2\n",
    "selector1 = SelectKBest(f_classif, k=10)\n",
    "selector2 = SelectKBest(chi2, k=10)\n",
    "top_features1 = selector1.fit_transform(df_scaled, df_scaled[\"poi\"])\n",
    "top_features2 = selector2.fit_transform(df_scaled, df_scaled[\"poi\"])\n",
    "mask1 = selector1.get_support()\n",
    "mask2 = selector2.get_support()\n",
    "columns1 = []\n",
    "columns2 = []\n",
    "for col in range(len(df.columns)):\n",
    "    if mask1[col] == True:\n",
    "        columns1.append(df.columns[col])\n",
    "    if mask2[col] == True:\n",
    "        columns2.append(df.columns[col])\n",
    "sc1 = pd.DataFrame(selector1.scores_, columns=[\"anova\"], index=df.columns)\n",
    "sc1 = sc1.sort_values(by=[\"anova\"], ascending=False)\n",
    "sc2 = pd.DataFrame(selector2.scores_, columns=[\"chi2\"], index=df.columns)\n",
    "sc2 = sc2.sort_values(by=[\"chi2\"], ascending=False)\n",
    "\n",
    "sc1[1:11]"
   ]
  },
  {
   "cell_type": "code",
   "execution_count": 11,
   "metadata": {
    "collapsed": false
   },
   "outputs": [
    {
     "data": {
      "text/html": [
       "<div>\n",
       "<table border=\"1\" class=\"dataframe\">\n",
       "  <thead>\n",
       "    <tr style=\"text-align: right;\">\n",
       "      <th></th>\n",
       "      <th>chi2</th>\n",
       "    </tr>\n",
       "  </thead>\n",
       "  <tbody>\n",
       "    <tr>\n",
       "      <th>exercised_stock_options</th>\n",
       "      <td>5.987562</td>\n",
       "    </tr>\n",
       "    <tr>\n",
       "      <th>total_stock_value</th>\n",
       "      <td>5.084427</td>\n",
       "    </tr>\n",
       "    <tr>\n",
       "      <th>to_poi_ratio</th>\n",
       "      <td>2.720786</td>\n",
       "    </tr>\n",
       "    <tr>\n",
       "      <th>total_payments</th>\n",
       "      <td>2.508275</td>\n",
       "    </tr>\n",
       "    <tr>\n",
       "      <th>bonus</th>\n",
       "      <td>2.380356</td>\n",
       "    </tr>\n",
       "    <tr>\n",
       "      <th>director_fees</th>\n",
       "      <td>1.477491</td>\n",
       "    </tr>\n",
       "    <tr>\n",
       "      <th>nans</th>\n",
       "      <td>1.320943</td>\n",
       "    </tr>\n",
       "    <tr>\n",
       "      <th>long_term_incentive</th>\n",
       "      <td>1.151095</td>\n",
       "    </tr>\n",
       "    <tr>\n",
       "      <th>shared_receipt_with_poi</th>\n",
       "      <td>1.139038</td>\n",
       "    </tr>\n",
       "    <tr>\n",
       "      <th>from_this_person_to_poi</th>\n",
       "      <td>0.820472</td>\n",
       "    </tr>\n",
       "  </tbody>\n",
       "</table>\n",
       "</div>"
      ],
      "text/plain": [
       "                             chi2\n",
       "exercised_stock_options  5.987562\n",
       "total_stock_value        5.084427\n",
       "to_poi_ratio             2.720786\n",
       "total_payments           2.508275\n",
       "bonus                    2.380356\n",
       "director_fees            1.477491\n",
       "nans                     1.320943\n",
       "long_term_incentive      1.151095\n",
       "shared_receipt_with_poi  1.139038\n",
       "from_this_person_to_poi  0.820472"
      ]
     },
     "execution_count": 11,
     "metadata": {},
     "output_type": "execute_result"
    }
   ],
   "source": [
    "sc2[1:11]"
   ]
  },
  {
   "cell_type": "markdown",
   "metadata": {},
   "source": [
    "I used the SelectKBest to generate scores for all the features and then I printed features sorted by score. The 10 best features are printed above in the tables. Two out of my created features ended up there (to_poi_ratio [3rd] and nans [7th]) which might signalize their significance, nevertheless in the final model none of them was used. \n",
    "\n",
    "I avoided to trying all of the possible k's (as a parameter of SelectKBest) and instead of that I tried the best features from the sorted lists above and examined their effect on the model characteristics (accuracy, precision, recall). Based on wheter feature significantly improved the quality of predictions made by model I decided to include/not include the feature in the final model. That examination could be find below."
   ]
  },
  {
   "cell_type": "markdown",
   "metadata": {},
   "source": [
    "Below are results of model (*Naive Bayes*), when different features were used: <br>\n",
    "\n",
    "*Baseline:* <br>\n",
    "[total_stock_value, exercised_stock_options] - Accuracy: 86%, Precision: 45%, Recall: 28% <br>\n",
    "\n",
    "*bonus included:* <br>\n",
    "[total_stock_value, exercised_stock_options, bonus] - Accuracy: 85%, Precision: 44%, Recall: 34% <br>\n",
    "resume: positive effect on Recall\n",
    "\n",
    "*to_poi_ratio included:* <br>\n",
    "[total_stock_value, exercised_stock_options, to_poi_ratio] - Accuracy: 85%, Precision: 42%, Recall: 30% <br>\n",
    "resume: minimal effect on Recall\n",
    "\n",
    "*nans included:* <br>\n",
    "[total_stock_value, exercised_stock_options, nans] - Accuracy: 86%, Precision: 44%, Recall: 28% <br>\n",
    "resume: no significant effect\n",
    "\n",
    "*salary included:* <br>\n",
    "[total_stock_value, exercised_stock_options, salary] - Accuracy: 85%, Precision: 43%, Recall: 28% <br>\n",
    "resume: no significant effect\n",
    "\n",
    "*total_payments included:* <br>\n",
    "[total_stock_value, exercised_stock_options, total_payments] - Accuracy: 85%, Precision: 41%, Recall: 24% <br>\n",
    "resume: negative effect on both Recall and Precision\n",
    "\n",
    "*deferred_income included:* <br>\n",
    "[total_stock_value, exercised_stock_options, deferred_income] - Accuracy: 87%, Precision: 51%, Recall: 39% <br>\n",
    "resume: positive effect on both Recall and Precision\n",
    "\n",
    "*director_fees included:* <br>\n",
    "[total_stock_value, exercised_stock_options, director_fees] - Accuracy: 24%, Precision: 15%, Recall: 100% <br>\n",
    "resume: positive effect on Recall, negative on Precision and Accuracy\n",
    "\n",
    "*long_term_incentive included:* <br>\n",
    "[total_stock_value, exercised_stock_options, long_term_incentive] - Accuracy: 85%, Precision: 43%, Recall: 29% <br>\n",
    "resume: no significant effect\n",
    "\n",
    "*both deferred_income and bonus included:* <br>\n",
    "[total_stock_value, exercised_stock_options, deferred_income, bonus] - Accuracy: 87%, Precision: 49%, Recall: 39% <br>\n",
    "\n",
    "**Final features used in the model: <br>\n",
    "[total_stock_value, exercised_stock_options, deferred_income] - Accuracy: 87%, Precision: 51%, Recall: 39% **<br>"
   ]
  },
  {
   "cell_type": "markdown",
   "metadata": {},
   "source": [
    "## Algorithm"
   ]
  },
  {
   "cell_type": "markdown",
   "metadata": {},
   "source": [
    "The comparison was performed within these four algorithms: *Adaboost*, *SVM*, *Decision tree*, and *Naive Bayes* classifier. Below are best parameters found by GridSearchCV and accuracy of model. Regarding accuracy the best result showed SVM and also very solid performance has Naive Bayes. But generally the differences between accuracy of particular models are not so big \n",
    "(~ 4%). At the end **as a final algorithm was chosed Naive Bayes** from reasons discussed further.\n",
    "\n",
    "adaboost optimal parameters:  {'n_estimators': 150, 'learning_rate': 1.5}<br>\n",
    "adaboost accuracy:  0.84<br>\n",
    "SVM optimal parameters:  {'kernel': 'rbf', 'C': 150, 'gamma': 0}<br>\n",
    "SVM accuracy:  0.89<br>\n",
    "decision tree optimal parameters:  {'min_samples_split': 25}<br>\n",
    "decision tree accuracy:  0.91<br>\n",
    "naive bayes accuracy:  0.91<br>\n",
    "\n",
    "The choice of proper algorithm is very important, nevertheless it is not all. To achieve good results, it is neccesery to choose appropriate parameters of model, what is called *parameter optimization*. I would say that using model with non optimal parameters is like cutting with blunt knife - you have the appropriate tool, but in inappropriate condition. Using of non optimal parameters could cause serious problems such as overfitting and significantly decrease the power of model. I performed parameter tuning by GridSearchCV, which is automated method of choosing the best parameters out of all possible parameters you define - that is why is it also called exhaustive method.  "
   ]
  },
  {
   "cell_type": "markdown",
   "metadata": {},
   "source": [
    "## Validation and Evaluation"
   ]
  },
  {
   "cell_type": "markdown",
   "metadata": {},
   "source": [
    "From my point of a view the calculation of accuracy is not enough in order to properly assess model performance, at least in most of the cases. Thus we also use different metrics to provide more complex picture about a quality of model. The most common evaluation metrics are probably Recall and Precision. Recall tells me what proportion of positive cases the model was able to predict out of total positive cases. So in this project it tells me what proportion of POIs out of all POIs the model could predict. On the other hand Precision shows what proportion out of all the predicted positive cases (predicted POI) are truly positive cases (actual POI) "
   ]
  },
  {
   "cell_type": "markdown",
   "metadata": {},
   "source": [
    "I have already used the word - *overfitting*. Which is something I would like to always avoid. The problem with overfitted model is that the model is very good predictor, but only on the dataset on which was trained on. That is not exactly what I want from my model. I want my model being good predictor \"on whatever data\" you throw in it. So in order to avoid overfitting I chose the most common way, so called *validation*. I really like this concept, it has two very likeable attributes - it is simple and smart. And generally it is nothing else than separating your dataset into more part, lets say 2. The first part is used for training of the model and the second for testing how good is the model at predicting. Generally quite good question is in what proportion to divide the dataset. Well, a lot of people use around 70% on training and 30% on testing, I used that too. Besides the above mentioned simple division into 2 groups, there also more sophisticated methods. Such as StratifiedShuffleSplit, which firstly shuffle the dataset and then split it into two groups, this shuffle-split procedure performs iteratively for defined number of times. This method also takes into account frequency of postivive/negative cases in the dataset, which is very usefull in case of \"rare\" positive or negative cases.\n",
    "\n",
    "I tried both of above mentioned methods in my project. Relatively consistent performance showed only Naive Bayes within all my attempts and changes of parameters (random_state, number of splits). Here are scores of algorithms trained on training set cross validated using simple split.\n",
    "\n",
    "adaboost precision score:  0.25<br>\n",
    "adaboost recall score:  0.25<br>\n",
    "SVM precision score:  0.5<br>\n",
    "SVM recall score:  0.25<br>\n",
    "decision tree precision score:  1.0<br>\n",
    "decision tree recall score:  0.25<br>\n",
    "naive bayes precision score:  0.4<br>\n",
    "naive bayes recall score:  0.5<br>\n",
    "\n",
    "Even though some of the algorithms showed better accuracy compared to Naive Bayes, they did not end up so good in next evaluations. That was confirmed by running tester.py script which proved that those algorithms obtained worse recall/precision scores, below 0.3 level. Those are reasons why **I chose Naive Bayes as a final algorithm**."
   ]
  },
  {
   "cell_type": "markdown",
   "metadata": {},
   "source": [
    "## Reflection"
   ]
  },
  {
   "cell_type": "markdown",
   "metadata": {},
   "source": [
    "For me quite surprise that Naive Bayes overperformed other algorithms. I think mainly due to the simplicity and relatively good generalization ability of this model. However when I am considering my level of konwledge and intuition in ML, it is very likely that I missed more than a few things or did them not quite good. So in future work I would definitely try to come up with some different features as I believe the feature engineering is the key to better results of ML models. And also I will try to keep on track and get even more into ML."
   ]
  },
  {
   "cell_type": "markdown",
   "metadata": {},
   "source": [
    "## Sources"
   ]
  },
  {
   "cell_type": "markdown",
   "metadata": {},
   "source": [
    "1) https://seaborn.pydata.org/index.html <br>\n",
    "2) http://scikit-learn.org/stable/documentation.html <br>\n",
    "3) https://pandas.pydata.org/ <br>\n",
    "4) https://matplotlib.org/devdocs/index.html <br>"
   ]
  },
  {
   "cell_type": "markdown",
   "metadata": {},
   "source": [
    "Created by Martin Rypar <br>\n",
    "13.11.2017"
   ]
  }
 ],
 "metadata": {
  "anaconda-cloud": {},
  "kernelspec": {
   "display_name": "Python [conda env:DAND]",
   "language": "python",
   "name": "conda-env-DAND-py"
  },
  "language_info": {
   "codemirror_mode": {
    "name": "ipython",
    "version": 2
   },
   "file_extension": ".py",
   "mimetype": "text/x-python",
   "name": "python",
   "nbconvert_exporter": "python",
   "pygments_lexer": "ipython2",
   "version": "2.7.12"
  }
 },
 "nbformat": 4,
 "nbformat_minor": 2
}
