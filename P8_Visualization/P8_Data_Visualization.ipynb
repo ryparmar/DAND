{
 "cells": [
  {
   "cell_type": "markdown",
   "metadata": {},
   "source": [
    "# Udacity Nanodegree Program, Data Analyst\n",
    "\n",
    "# Project 8: Data Visualization\n",
    "\n",
    "# Create a Tableu Story "
   ]
  },
  {
   "cell_type": "markdown",
   "metadata": {},
   "source": [
    "## Dataset"
   ]
  },
  {
   "cell_type": "markdown",
   "metadata": {},
   "source": [
    "I chose the well known Titanic dataset. This dataset contains demographics and passenger information from a subset of the 2224 passengers and crew on board the Titanic. The task is to create a visualization that shows the demographics or passenger information between those passengers who survived and those who died."
   ]
  },
  {
   "cell_type": "markdown",
   "metadata": {},
   "source": [
    "## Summary"
   ]
  },
  {
   "cell_type": "markdown",
   "metadata": {},
   "source": [
    "The visualization consists of 4 smaller plots and side filtering controls. Filtering is possible by several methods - using side controls for filtering or clicking on a particular feature. \n",
    "\n",
    "As a key colours were chosen blue and orange to help distinguish passengers who survived and who did not. Same colour coding is used within all parts of the visualisation. Final visualisation consists of side-by-side barplots and histograms.\n",
    "\n",
    "After reading of this visualization, one should imagine the most probable survivor of Titanic catastrophe as *a women travelling by first class and thus higher fare*, which are the main characteristics of survivors. That is the main message. Further a reader can see that for childrens (age <= 10) that does not apply as the proportion of sex between saved childrens is roughly equal. Or the people travelling by first class survived in more cases than people travelling by third class."
   ]
  },
  {
   "cell_type": "markdown",
   "metadata": {},
   "source": [
    "## Design"
   ]
  },
  {
   "cell_type": "markdown",
   "metadata": {},
   "source": [
    "**Initial design choices:**\n",
    "\n",
    "I decided to create a dashboard and split the visualization into 4 plots plus side filter controls. The key characteristics - wheter passenger survived or not - is distinguished by orange/blue colouring and is present in all the plots. Thus I will not mention it in further descriptions. First plot, side-by-side barplot, shows proportion of survived by sex. Proportion is calculated as e.g. female survived/total survived (what proportion of survivors are females) and encoded in the middle of bars as the percentage label. Second plot (righ-top), histogram, simply represents the distribution by age. The third plot, scatter plot, shows age as columns and fare as a rows, where sex is encoded as a shape and detail is on passengerID. The fourth plot, histrogram, represents the distribution by age and class. The dashboard have two actions, highliting activated by hovering and filtering which is activated by selecting (clicking). In the controls part are few possible choices how to change the visualization but also a legends. Reader can use filtering by sex, place of embarkation or sector using multiple list filters. Then is also included filtering by age where the reader can set the maximal age of passengers included in visualization, I really like this small feature.\n",
    "\n",
    "**Post-feedback desing choices:**\n",
    "\n",
    "After receiving some feedback, I decided to change one of plots in the dashboard. The third (left-bottom) plot is really small and thus some information value disappears. Instead of the first plot I used side-by-side barplot, showing average fare by sex, where the average fare is encoded in the middle of the bars as a label. Dashboard is now more consistent regarding used types of plots, but also maybe more monotonous, it depends. Then I hid the headers for columns, which are also addressed in the enclosed screenshot. And this was a good point, from my point of view. As I did not realize that the information is already contained in the header of the plot (but again it depends on the reader, this is quite subjective someone do not mind the extra header). And the last change which is from the second person, who was missing the actual number of people by sex in the first plot. The rest remained unchanged."
   ]
  },
  {
   "cell_type": "markdown",
   "metadata": {},
   "source": [
    "## Feedback"
   ]
  },
  {
   "cell_type": "markdown",
   "metadata": {},
   "source": [
    "Even though I received feedback just from 2 persons, it made me to realize that it is really subjective how the people perceive same visualizations. So I am glad that some really great and usefull informations were presented in the theoretical part of this lesson (perception of colours, shapes, junkcharts etc.) to minimalize missinterpretations and to deliver as clear messages as possible. Those are the crucial informations I tried to remember, but more important is to use those good-habits in the future.\n",
    "\n",
    "Feedback from the first person is included as a png file in the project submission, second person provide me with feedback during creation of visualization. Inputs from both persons are included in Desing part above. \n",
    "\n",
    "There were no other inputs or feedback to the final version of visualization.\n"
   ]
  },
  {
   "cell_type": "markdown",
   "metadata": {},
   "source": [
    "## Resources"
   ]
  },
  {
   "cell_type": "markdown",
   "metadata": {},
   "source": [
    "1) https://www.kaggle.com/c/titanic/data <br>\n",
    "2) https://www.tableau.com/blog/titanic-data-analysis-from-tableau-customer <br>"
   ]
  },
  {
   "cell_type": "markdown",
   "metadata": {},
   "source": [
    "Created by Martin Rypar <br>\n",
    "22.11.2017"
   ]
  }
 ],
 "metadata": {
  "anaconda-cloud": {},
  "kernelspec": {
   "display_name": "Python [conda env:DAND]",
   "language": "python",
   "name": "conda-env-DAND-py"
  },
  "language_info": {
   "codemirror_mode": {
    "name": "ipython",
    "version": 2
   },
   "file_extension": ".py",
   "mimetype": "text/x-python",
   "name": "python",
   "nbconvert_exporter": "python",
   "pygments_lexer": "ipython2",
   "version": "2.7.12"
  }
 },
 "nbformat": 4,
 "nbformat_minor": 2
}
