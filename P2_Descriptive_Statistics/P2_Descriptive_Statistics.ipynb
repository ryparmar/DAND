{
 "cells": [
  {
   "cell_type": "markdown",
   "metadata": {},
   "source": [
    "# <b>P1 Compute Statistics from Card Draws</b>\n",
    "\n",
    "This experiment will require the use of a standard deck of playing cards. This is a deck of fifty-two cards divided into four suits (spades (♠), hearts (♥), diamonds (♦), and clubs (♣)), each suit containing thirteen cards (Ace, numbers 2-10, and face cards Jack, Queen, and King). \n",
    "\n",
    "For the purposes of this task, for each card is assigned a value: The Ace takes a value of 1, numbered cards take the value printed on the card, and the Jack, Queen, and King each take a value of 10.\n"
   ]
  },
  {
   "cell_type": "markdown",
   "metadata": {},
   "source": [
    "## Tasks\n",
    "1. First, create a histogram depicting the relative frequencies of the card values for a single draw. Report the mean, median, and standard deviation of the value distribution.\n",
    "\n",
    "2. Take a look at the distribution of the three-card sums from the samples that you obtained. Report descriptive statistics for the samples you have drawn. Include at least two measures of central tendency and two measures of variability.\n",
    "\n",
    "3. Create a histogram of the sampled three-card sums. Compare its shape to that of the original distribution. How are they different, and can you explain why this is the case?\n",
    "\n",
    "4. Make some estimates about values you would get on future draws. Within what range will you expect approximately 90% of your draw values to fall? What is the approximate probability that you will get a draw value of at least 20? Make sure you justify how you obtained your values."
   ]
  },
  {
   "cell_type": "markdown",
   "metadata": {},
   "source": []
  },
  {
   "cell_type": "code",
   "execution_count": 5,
   "metadata": {
    "collapsed": false
   },
   "outputs": [
    {
     "data": {
      "image/png": "[encoded data removed]",
      "text/plain": [
       "<matplotlib.figure.Figure at 0x1f5a8e0b860>"
      ]
     },
     "metadata": {},
     "output_type": "display_data"
    }
   ],
   "source": [
    "import numpy as np\n",
    "import matplotlib.pyplot as plt\n",
    "\n",
    "# deck definition\n",
    "deck = list([1, 2, 3, 4, 5, 6, 7, 8, 9, 10, 10, 10, 10, 1, 2, 3, 4, 5, 6, 7, 8, 9, 10, 10, 10, 10,\n",
    "             1, 2, 3, 4, 5, 6, 7, 8, 9, 10, 10, 10, 10, 1, 2, 3, 4, 5, 6, 7, 8, 9, 10, 10, 10, 10,])\n",
    "\n",
    "# a histogram representing the absolute frequencies of the card values from a single draw\n",
    "plt.hist(deck, bins=[0, 1, 2, 3, 4, 5, 6, 7, 8, 9, 10, 11], align=\"left\")\n",
    "plt.title(\"Histogram of card deck with frequencies\")\n",
    "plt.show()\n"
   ]
  },
  {
   "cell_type": "code",
   "execution_count": 4,
   "metadata": {
    "collapsed": false
   },
   "outputs": [
    {
     "data": {
      "image/png": "[encoded data removed]",
      "text/plain": [
       "<matplotlib.figure.Figure at 0x1f5a8b5ccc0>"
      ]
     },
     "metadata": {},
     "output_type": "display_data"
    }
   ],
   "source": [
    "# a histogram representing the relative frequencies of the card values from a single draw\n",
    "plt.hist(deck, bins=[0, 1, 2, 3, 4, 5, 6, 7, 8, 9, 10, 11], normed=True, align=\"left\")\n",
    "plt.title(\"Histogram of card deck with proportions\")\n",
    "plt.show()"
   ]
  },
  {
   "cell_type": "code",
   "execution_count": 7,
   "metadata": {
    "collapsed": false
   },
   "outputs": [
    {
     "name": "stdout",
     "output_type": "stream",
     "text": [
      "deck_mean = 6.54\n",
      "deck_median = 7.0\n",
      "deck_standard_deviation = 3.15\n"
     ]
    }
   ],
   "source": [
    "# deck statistics / one draw statistics\n",
    "deck_mean = np.round(np.mean(deck),2)\n",
    "print(\"deck_mean =\", deck_mean)\n",
    "deck_median = np.round(np.median(deck),2)\n",
    "print(\"deck_median =\", deck_median)\n",
    "deck_std = np.round(np.std(deck),2)\n",
    "print(\"deck_standard_deviation =\", deck_std)"
   ]
  },
  {
   "cell_type": "code",
   "execution_count": null,
   "metadata": {
    "collapsed": true
   },
   "outputs": [],
   "source": []
  }
 ],
 "metadata": {
  "anaconda-cloud": {},
  "kernelspec": {
   "display_name": "Python [default]",
   "language": "python",
   "name": "python3"
  },
  "language_info": {
   "codemirror_mode": {
    "name": "ipython",
    "version": 3
   },
   "file_extension": ".py",
   "mimetype": "text/x-python",
   "name": "python",
   "nbconvert_exporter": "python",
   "pygments_lexer": "ipython3",
   "version": "3.5.2"
  }
 },
 "nbformat": 4,
 "nbformat_minor": 1
}
